{
 "cells": [
  {
   "cell_type": "code",
   "execution_count": 94,
   "id": "10f526da",
   "metadata": {},
   "outputs": [],
   "source": [
    "import torch.nn as nn\n",
    "import torch\n",
    "import matplotlib.pyplot as plt \n",
    "import pandas as pd\n",
    "from torch.autograd import Variable\n",
    "from torch.utils.data import Dataset, DataLoader\n",
    "import torch.nn.functional as F\n",
    "from sklearn.datasets import load_iris\n",
    "from sklearn.preprocessing import LabelEncoder\n",
    "from sklearn.preprocessing import MinMaxScaler\n",
    "from sklearn.preprocessing import StandardScaler\n",
    "import numpy as np\n",
    "import tqdm\n",
    "\n",
    "from sklearn.cluster import KMeans\n",
    "\n",
    "from sklearn.neighbors import KNeighborsClassifier\n",
    "\n",
    "from sklearn.model_selection import train_test_split\n",
    "from sklearn.metrics import classification_report, confusion_matrix"
   ]
  },
  {
   "cell_type": "code",
   "execution_count": 2,
   "id": "3c2d5c89",
   "metadata": {},
   "outputs": [],
   "source": [
    "def plot_confusion_matrix(cm,\n",
    "                          target_names=None,\n",
    "                          title='Confusion matrix',\n",
    "                          cmap=None,\n",
    "                          normalize=False):\n",
    "    \"\"\"\n",
    "    given a sklearn confusion matrix (cm), make a nice plot\n",
    "\n",
    "    Arguments\n",
    "    ---------\n",
    "    cm:           confusion matrix from sklearn.metrics.confusion_matrix\n",
    "\n",
    "    target_names: given classification classes such as [0, 1, 2]\n",
    "                  the class names, for example: ['high', 'medium', 'low']\n",
    "\n",
    "    title:        the text to display at the top of the matrix\n",
    "\n",
    "    cmap:         the gradient of the values displayed from matplotlib.pyplot.cm\n",
    "                  see http://matplotlib.org/examples/color/colormaps_reference.html\n",
    "                  plt.get_cmap('jet') or plt.cm.Blues\n",
    "\n",
    "    normalize:    If False, plot the raw numbers\n",
    "                  If True, plot the proportions\n",
    "\n",
    "    Usage\n",
    "    -----\n",
    "    plot_confusion_matrix(cm           = cm,                  # confusion matrix created by\n",
    "                                                              # sklearn.metrics.confusion_matrix\n",
    "                          normalize    = True,                # show proportions\n",
    "                          target_names = y_labels_vals,       # list of names of the classes\n",
    "                          title        = best_estimator_name) # title of graph\n",
    "\n",
    "    Citiation\n",
    "    ---------\n",
    "    http://scikit-learn.org/stable/auto_examples/model_selection/plot_confusion_matrix.html\n",
    "\n",
    "    \"\"\"\n",
    "    import matplotlib.pyplot as plt\n",
    "    import numpy as np\n",
    "    import itertools\n",
    "\n",
    "    accuracy = np.trace(cm) / np.sum(cm).astype('float')\n",
    "    misclass = 1 - accuracy\n",
    "\n",
    "    if target_names is None:\n",
    "        target_names = [i for i in range(cm.shape[0])]\n",
    "\n",
    "    if cmap is None:\n",
    "        cmap = plt.get_cmap('Blues')\n",
    "\n",
    "    plt.figure(figsize=(8, 6))\n",
    "    plt.imshow(cm, interpolation='nearest', cmap=cmap)\n",
    "    plt.title(title)\n",
    "    plt.colorbar()\n",
    "\n",
    "    if target_names is not None:\n",
    "        tick_marks = np.arange(len(target_names))\n",
    "        plt.xticks(tick_marks, target_names, rotation=45)\n",
    "        plt.yticks(tick_marks, target_names)\n",
    "\n",
    "    if normalize:\n",
    "        cm = cm.astype('float') / cm.sum(axis=1)[:, np.newaxis]\n",
    "\n",
    "\n",
    "    thresh = cm.max() / 1.5 if normalize else cm.max() / 2\n",
    "    for i, j in itertools.product(range(cm.shape[0]), range(cm.shape[1])):\n",
    "        if normalize:\n",
    "            plt.text(j, i, \"{:0.4f}\".format(cm[i, j]),\n",
    "                     horizontalalignment=\"center\",\n",
    "                     color=\"white\" if cm[i, j] > thresh else \"black\")\n",
    "        else:\n",
    "            plt.text(j, i, \"{:,}\".format(cm[i, j]),\n",
    "                     horizontalalignment=\"center\",\n",
    "                     color=\"white\" if cm[i, j] > thresh else \"black\")\n",
    "\n",
    "\n",
    "    plt.tight_layout()\n",
    "    plt.ylabel('True label')\n",
    "    plt.xlabel('Predicted label\\naccuracy={:0.4f}; misclass={:0.4f}'.format(accuracy, misclass))\n",
    "    plt.show()"
   ]
  },
  {
   "cell_type": "code",
   "execution_count": 3,
   "id": "84a566bb",
   "metadata": {},
   "outputs": [],
   "source": [
    "def transf_dados(name):\n",
    "    d = {}  # dictionary that will hold them \n",
    "\n",
    "    for i in range(1,24):  # loop over files\n",
    "        if i < 10: count = '0'+str(i)\n",
    "        else: count= str(i)\n",
    "\n",
    "        file_name = \"P\"+count+\"_\"+name\n",
    "        # read csv into a dataframe and add it to dict with file_name as it key\n",
    "        d[file_name] = pd.read_csv('dataset/'+file_name+'.csv')\n",
    "        \n",
    "    x_values =np.zeros(0)\n",
    "    y_values =np.zeros(0)\n",
    "    keys=[]\n",
    "    for key in d:\n",
    "        _len = len(d[key]['x'])\n",
    "        time_series = np.zeros((3,_len))\n",
    "        keys.append(key)\n",
    "\n",
    "    return d, keys\n"
   ]
  },
  {
   "cell_type": "code",
   "execution_count": 362,
   "id": "46de49c4",
   "metadata": {},
   "outputs": [],
   "source": [
    "d1,keys1 = transf_dados('READ')\n",
    "#d2,keys2 =transf_dados('SEARCH')\n",
    "\n",
    "#d3,keys3 =transf_dados('BROWSE')\n",
    "#d4,keys4 =transf_dados('DEBUG')\n",
    "d5,keys5 =transf_dados('INTERPRET')\n",
    "d6,keys6 =transf_dados('PLAY')\n",
    "d7,keys7 =transf_dados('WATCH')\n",
    "d8,keys8 =transf_dados('WRITE')\n"
   ]
  },
  {
   "cell_type": "code",
   "execution_count": 363,
   "id": "1a598891",
   "metadata": {},
   "outputs": [],
   "source": [
    "D={}\n",
    "\n",
    "D['READ'] = d1\n",
    "#D['SEARCH'] = d2\n",
    "\n",
    "#D['BROWSE'] = d3\n",
    "#D['DEBUG'] = d4\n",
    "\n",
    "D['INTERPRET'] = d5\n",
    "D['PLAY'] = d6\n",
    "\n",
    "D['WATCH'] = d7\n",
    "D['WRITE'] = d8"
   ]
  },
  {
   "cell_type": "code",
   "execution_count": 364,
   "id": "addd42af",
   "metadata": {},
   "outputs": [],
   "source": [
    "window =7\n",
    "lst_labels =[]\n",
    "lst_values =[]\n",
    "columns = {}\n",
    "\n",
    "\n",
    "for index in range(window):\n",
    "    label_x = \"x\"+str(index)\n",
    "    label_y = \"y\"+str(index)\n",
    "    lst_labels.insert(len(lst_labels), label_x)\n",
    "    lst_labels.insert(len(lst_labels), label_y)\n",
    "    columns['label_x'] = 'numeric'\n",
    "    columns['label_y'] = 'numeric'\n",
    "lst_labels.insert(len(lst_labels),'ROTULO')\n",
    "columns['ROTULO'] ='categorical'\n",
    "\n",
    "for atividade in D:\n",
    "    for pessoa in D[atividade]:\n",
    "        for j in range(1,1500,window):\n",
    "            lst_values_aux =[] \n",
    "            for i in range(window):\n",
    "                            \n",
    "                lst_values_aux.insert(len(lst_values_aux), D[atividade][pessoa]['x'][j+i])\n",
    "                lst_values_aux.insert(len(lst_values_aux), D[atividade][pessoa]['y'][j+i])\n",
    "\n",
    "            lst_values_aux.insert(len(lst_values_aux),atividade)\n",
    "            lst_values.insert(len(lst_values),lst_values_aux)\n",
    "            \n",
    "df2 = pd.DataFrame([lst_values[0]], columns = lst_labels)           \n",
    "for j in range(1,len(lst_values)):\n",
    "    newdf = pd.DataFrame([lst_values[j]], columns = lst_labels)               \n",
    "    df2 = pd.concat([df2, newdf])"
   ]
  },
  {
   "cell_type": "code",
   "execution_count": 365,
   "id": "ca5c0ae0",
   "metadata": {},
   "outputs": [
    {
     "data": {
      "text/html": [
       "<div>\n",
       "<style scoped>\n",
       "    .dataframe tbody tr th:only-of-type {\n",
       "        vertical-align: middle;\n",
       "    }\n",
       "\n",
       "    .dataframe tbody tr th {\n",
       "        vertical-align: top;\n",
       "    }\n",
       "\n",
       "    .dataframe thead th {\n",
       "        text-align: right;\n",
       "    }\n",
       "</style>\n",
       "<table border=\"1\" class=\"dataframe\">\n",
       "  <thead>\n",
       "    <tr style=\"text-align: right;\">\n",
       "      <th></th>\n",
       "      <th>x0</th>\n",
       "      <th>y0</th>\n",
       "      <th>x1</th>\n",
       "      <th>y1</th>\n",
       "      <th>x2</th>\n",
       "      <th>y2</th>\n",
       "      <th>x3</th>\n",
       "      <th>y3</th>\n",
       "      <th>x4</th>\n",
       "      <th>y4</th>\n",
       "      <th>x5</th>\n",
       "      <th>y5</th>\n",
       "      <th>x6</th>\n",
       "      <th>y6</th>\n",
       "      <th>ROTULO</th>\n",
       "    </tr>\n",
       "  </thead>\n",
       "  <tbody>\n",
       "    <tr>\n",
       "      <th>0</th>\n",
       "      <td>986</td>\n",
       "      <td>501</td>\n",
       "      <td>991</td>\n",
       "      <td>505</td>\n",
       "      <td>986</td>\n",
       "      <td>504</td>\n",
       "      <td>987</td>\n",
       "      <td>514</td>\n",
       "      <td>976</td>\n",
       "      <td>511</td>\n",
       "      <td>990</td>\n",
       "      <td>508</td>\n",
       "      <td>917</td>\n",
       "      <td>459</td>\n",
       "      <td>READ</td>\n",
       "    </tr>\n",
       "    <tr>\n",
       "      <th>4945</th>\n",
       "      <td>520</td>\n",
       "      <td>537</td>\n",
       "      <td>282</td>\n",
       "      <td>562</td>\n",
       "      <td>291</td>\n",
       "      <td>585</td>\n",
       "      <td>241</td>\n",
       "      <td>376</td>\n",
       "      <td>113</td>\n",
       "      <td>427</td>\n",
       "      <td>171</td>\n",
       "      <td>391</td>\n",
       "      <td>171</td>\n",
       "      <td>418</td>\n",
       "      <td>INTERPRET</td>\n",
       "    </tr>\n",
       "    <tr>\n",
       "      <th>9890</th>\n",
       "      <td>173</td>\n",
       "      <td>26</td>\n",
       "      <td>156</td>\n",
       "      <td>2</td>\n",
       "      <td>231</td>\n",
       "      <td>22</td>\n",
       "      <td>228</td>\n",
       "      <td>17</td>\n",
       "      <td>232</td>\n",
       "      <td>14</td>\n",
       "      <td>233</td>\n",
       "      <td>8</td>\n",
       "      <td>231</td>\n",
       "      <td>-2</td>\n",
       "      <td>PLAY</td>\n",
       "    </tr>\n",
       "    <tr>\n",
       "      <th>14835</th>\n",
       "      <td>473</td>\n",
       "      <td>1055</td>\n",
       "      <td>622</td>\n",
       "      <td>1042</td>\n",
       "      <td>572</td>\n",
       "      <td>1088</td>\n",
       "      <td>667</td>\n",
       "      <td>1094</td>\n",
       "      <td>605</td>\n",
       "      <td>1054</td>\n",
       "      <td>633</td>\n",
       "      <td>1088</td>\n",
       "      <td>598</td>\n",
       "      <td>1092</td>\n",
       "      <td>WATCH</td>\n",
       "    </tr>\n",
       "    <tr>\n",
       "      <th>19780</th>\n",
       "      <td>650</td>\n",
       "      <td>437</td>\n",
       "      <td>484</td>\n",
       "      <td>403</td>\n",
       "      <td>495</td>\n",
       "      <td>422</td>\n",
       "      <td>478</td>\n",
       "      <td>423</td>\n",
       "      <td>485</td>\n",
       "      <td>440</td>\n",
       "      <td>490</td>\n",
       "      <td>453</td>\n",
       "      <td>325</td>\n",
       "      <td>371</td>\n",
       "      <td>WRITE</td>\n",
       "    </tr>\n",
       "  </tbody>\n",
       "</table>\n",
       "</div>"
      ],
      "text/plain": [
       "        x0    y0   x1    y1   x2    y2   x3    y3   x4    y4   x5    y5   x6  \\\n",
       "0      986   501  991   505  986   504  987   514  976   511  990   508  917   \n",
       "4945   520   537  282   562  291   585  241   376  113   427  171   391  171   \n",
       "9890   173    26  156     2  231    22  228    17  232    14  233     8  231   \n",
       "14835  473  1055  622  1042  572  1088  667  1094  605  1054  633  1088  598   \n",
       "19780  650   437  484   403  495   422  478   423  485   440  490   453  325   \n",
       "\n",
       "         y6     ROTULO  \n",
       "0       459       READ  \n",
       "4945    418  INTERPRET  \n",
       "9890     -2       PLAY  \n",
       "14835  1092      WATCH  \n",
       "19780   371      WRITE  "
      ]
     },
     "execution_count": 365,
     "metadata": {},
     "output_type": "execute_result"
    }
   ],
   "source": [
    "df2 = df2.reset_index(drop=True)\n",
    "df2.groupby(['ROTULO']).head(1)"
   ]
  },
  {
   "cell_type": "code",
   "execution_count": 124,
   "id": "389b5a16",
   "metadata": {},
   "outputs": [
    {
     "data": {
      "image/png": "[encoded data removed]",
      "text/plain": [
       "<Figure size 432x288 with 1 Axes>"
      ]
     },
     "metadata": {
      "needs_background": "light"
     },
     "output_type": "display_data"
    }
   ],
   "source": [
    "hist, bin_edges = np.histogram(df2['x0'][0:4577],  bins=200,density=True)\n",
    "center_bin=[]\n",
    "for i in range(len(hist)):\n",
    "    center_bin.append((bin_edges[i]+bin_edges[i+1])/2)\n",
    "plt.scatter(center_bin,hist,s=5, color='red',label=\"numerical\")\n",
    "#plt.plot(fit[0], fit[1])\n",
    "#plt.plot(yt,y, label='analytical')\n",
    "plt.yscale('log')\n",
    "#plt.xscale('log')\n",
    "plt.xlabel('t')\n",
    "plt.ylabel('f(t)')\n",
    "#plt.legend()\n",
    "#plt.xlim([-65,65])\n",
    "#plt.ylim([0.00001,10])\n",
    "plt.show()"
   ]
  },
  {
   "cell_type": "code",
   "execution_count": 366,
   "id": "a023dfc6",
   "metadata": {},
   "outputs": [
    {
     "data": {
      "text/html": [
       "<div>\n",
       "<style scoped>\n",
       "    .dataframe tbody tr th:only-of-type {\n",
       "        vertical-align: middle;\n",
       "    }\n",
       "\n",
       "    .dataframe tbody tr th {\n",
       "        vertical-align: top;\n",
       "    }\n",
       "\n",
       "    .dataframe thead th {\n",
       "        text-align: right;\n",
       "    }\n",
       "</style>\n",
       "<table border=\"1\" class=\"dataframe\">\n",
       "  <thead>\n",
       "    <tr style=\"text-align: right;\">\n",
       "      <th></th>\n",
       "      <th>x0</th>\n",
       "      <th>y0</th>\n",
       "      <th>x1</th>\n",
       "      <th>y1</th>\n",
       "      <th>x2</th>\n",
       "      <th>y2</th>\n",
       "      <th>x3</th>\n",
       "      <th>y3</th>\n",
       "      <th>x4</th>\n",
       "      <th>y4</th>\n",
       "      <th>x5</th>\n",
       "      <th>y5</th>\n",
       "      <th>x6</th>\n",
       "      <th>y6</th>\n",
       "      <th>ROTULO</th>\n",
       "      <th>class</th>\n",
       "    </tr>\n",
       "  </thead>\n",
       "  <tbody>\n",
       "    <tr>\n",
       "      <th>0</th>\n",
       "      <td>0.862004</td>\n",
       "      <td>0.395401</td>\n",
       "      <td>0.874200</td>\n",
       "      <td>0.413509</td>\n",
       "      <td>0.865036</td>\n",
       "      <td>0.405616</td>\n",
       "      <td>0.868189</td>\n",
       "      <td>0.456716</td>\n",
       "      <td>0.835235</td>\n",
       "      <td>0.442721</td>\n",
       "      <td>0.871691</td>\n",
       "      <td>0.429980</td>\n",
       "      <td>0.681966</td>\n",
       "      <td>0.200323</td>\n",
       "      <td>READ</td>\n",
       "      <td>2</td>\n",
       "    </tr>\n",
       "    <tr>\n",
       "      <th>4945</th>\n",
       "      <td>-0.346404</td>\n",
       "      <td>0.563202</td>\n",
       "      <td>-0.961217</td>\n",
       "      <td>0.679882</td>\n",
       "      <td>-0.938111</td>\n",
       "      <td>0.782145</td>\n",
       "      <td>-1.066754</td>\n",
       "      <td>-0.190078</td>\n",
       "      <td>-1.399216</td>\n",
       "      <td>0.050860</td>\n",
       "      <td>-1.250680</td>\n",
       "      <td>-0.117395</td>\n",
       "      <td>-1.248840</td>\n",
       "      <td>0.008622</td>\n",
       "      <td>INTERPRET</td>\n",
       "      <td>0</td>\n",
       "    </tr>\n",
       "    <tr>\n",
       "      <th>9890</th>\n",
       "      <td>-1.246228</td>\n",
       "      <td>-1.818639</td>\n",
       "      <td>-1.287398</td>\n",
       "      <td>-1.937117</td>\n",
       "      <td>-1.093778</td>\n",
       "      <td>-1.834962</td>\n",
       "      <td>-1.100473</td>\n",
       "      <td>-1.872678</td>\n",
       "      <td>-1.091105</td>\n",
       "      <td>-1.875790</td>\n",
       "      <td>-1.090012</td>\n",
       "      <td>-1.909230</td>\n",
       "      <td>-1.093547</td>\n",
       "      <td>-1.955153</td>\n",
       "      <td>PLAY</td>\n",
       "      <td>1</td>\n",
       "    </tr>\n",
       "    <tr>\n",
       "      <th>14835</th>\n",
       "      <td>-0.468283</td>\n",
       "      <td>2.977671</td>\n",
       "      <td>-0.081045</td>\n",
       "      <td>2.923025</td>\n",
       "      <td>-0.209068</td>\n",
       "      <td>3.120342</td>\n",
       "      <td>0.038186</td>\n",
       "      <td>3.175122</td>\n",
       "      <td>-0.125346</td>\n",
       "      <td>2.975822</td>\n",
       "      <td>-0.053445</td>\n",
       "      <td>3.143464</td>\n",
       "      <td>-0.143674</td>\n",
       "      <td>3.160012</td>\n",
       "      <td>WATCH</td>\n",
       "      <td>3</td>\n",
       "    </tr>\n",
       "    <tr>\n",
       "      <th>19780</th>\n",
       "      <td>-0.009295</td>\n",
       "      <td>0.097088</td>\n",
       "      <td>-0.438291</td>\n",
       "      <td>-0.063159</td>\n",
       "      <td>-0.408842</td>\n",
       "      <td>0.024439</td>\n",
       "      <td>-0.452034</td>\n",
       "      <td>0.030207</td>\n",
       "      <td>-0.436046</td>\n",
       "      <td>0.111505</td>\n",
       "      <td>-0.424018</td>\n",
       "      <td>0.172667</td>\n",
       "      <td>-0.850255</td>\n",
       "      <td>-0.211134</td>\n",
       "      <td>WRITE</td>\n",
       "      <td>4</td>\n",
       "    </tr>\n",
       "  </tbody>\n",
       "</table>\n",
       "</div>"
      ],
      "text/plain": [
       "             x0        y0        x1        y1        x2        y2        x3  \\\n",
       "0      0.862004  0.395401  0.874200  0.413509  0.865036  0.405616  0.868189   \n",
       "4945  -0.346404  0.563202 -0.961217  0.679882 -0.938111  0.782145 -1.066754   \n",
       "9890  -1.246228 -1.818639 -1.287398 -1.937117 -1.093778 -1.834962 -1.100473   \n",
       "14835 -0.468283  2.977671 -0.081045  2.923025 -0.209068  3.120342  0.038186   \n",
       "19780 -0.009295  0.097088 -0.438291 -0.063159 -0.408842  0.024439 -0.452034   \n",
       "\n",
       "             y3        x4        y4        x5        y5        x6        y6  \\\n",
       "0      0.456716  0.835235  0.442721  0.871691  0.429980  0.681966  0.200323   \n",
       "4945  -0.190078 -1.399216  0.050860 -1.250680 -0.117395 -1.248840  0.008622   \n",
       "9890  -1.872678 -1.091105 -1.875790 -1.090012 -1.909230 -1.093547 -1.955153   \n",
       "14835  3.175122 -0.125346  2.975822 -0.053445  3.143464 -0.143674  3.160012   \n",
       "19780  0.030207 -0.436046  0.111505 -0.424018  0.172667 -0.850255 -0.211134   \n",
       "\n",
       "          ROTULO  class  \n",
       "0           READ      2  \n",
       "4945   INTERPRET      0  \n",
       "9890        PLAY      1  \n",
       "14835      WATCH      3  \n",
       "19780      WRITE      4  "
      ]
     },
     "execution_count": 366,
     "metadata": {},
     "output_type": "execute_result"
    }
   ],
   "source": [
    "label_encoder = LabelEncoder()\n",
    "label =label_encoder.fit_transform(df2['ROTULO'])\n",
    "df2['class'] = label\n",
    "\n",
    "scaler_1 = StandardScaler()\n",
    "\n",
    "\n",
    "df2[lst_labels[:-1]] = scaler_1.fit_transform(df2[lst_labels[:-1]])\n",
    "df2 = df2.reset_index(drop=True)\n",
    "df2.groupby(['class']).head(1)"
   ]
  },
  {
   "cell_type": "code",
   "execution_count": 367,
   "id": "f63c6f0e",
   "metadata": {},
   "outputs": [],
   "source": [
    "X = pd.DataFrame.to_numpy(df2[lst_labels[:-1]])\n",
    "Y = pd.Series.to_numpy(df2['class'])"
   ]
  },
  {
   "cell_type": "code",
   "execution_count": 368,
   "id": "d49de221",
   "metadata": {},
   "outputs": [],
   "source": [
    "#x, x_val, y, y_val = train_test_split(X, Y, test_size=0.33, random_state=42)\n",
    "x, x_test, y, y_test = train_test_split(X, Y, test_size=0.2, random_state=42)\n",
    "x_test, x_val, y_test, y_val = train_test_split(x_test,y_test,test_size=0.2,random_state=42)"
   ]
  },
  {
   "cell_type": "code",
   "execution_count": 369,
   "id": "24003d1d",
   "metadata": {},
   "outputs": [
    {
     "data": {
      "text/plain": [
       "((19780, 14), (19780,), (989, 14), (989,))"
      ]
     },
     "execution_count": 369,
     "metadata": {},
     "output_type": "execute_result"
    }
   ],
   "source": [
    "x.shape, y.shape, x_val.shape, y_val.shape\n",
    "\n"
   ]
  },
  {
   "cell_type": "code",
   "execution_count": 370,
   "id": "a7a9cbf4",
   "metadata": {},
   "outputs": [],
   "source": [
    "x_train = x.reshape(-1, x.shape[1]).astype('float32')\n",
    "y_train = y\n",
    "\n",
    "x_val = x_val.reshape(-1, x_val.shape[1]).astype('float32')\n",
    "y_val = y_val"
   ]
  },
  {
   "cell_type": "code",
   "execution_count": null,
   "id": "a92440b8",
   "metadata": {},
   "outputs": [],
   "source": []
  },
  {
   "cell_type": "code",
   "execution_count": 371,
   "id": "8b34a777",
   "metadata": {},
   "outputs": [],
   "source": [
    "class Data(Dataset):\n",
    "    def __init__(self):\n",
    "        self.x=torch.from_numpy(x_train).float()\n",
    "        self.y=torch.from_numpy(y_train).long()\n",
    "        self.len=self.x.shape[0]\n",
    "    def __getitem__(self,index):      \n",
    "        return self.x[index], self.y[index]\n",
    "    def __len__(self):\n",
    "        return self.len\n",
    "    \n",
    "class Data_ver(Dataset):\n",
    "    def __init__(self):\n",
    "        self.x_val=torch.from_numpy(x_val).float()\n",
    "        self.y_val=torch.from_numpy(y_val).long()\n",
    "        self.x_test=torch.from_numpy(x_test)\n",
    "        self.y_test=torch.from_numpy(y_test).long()\n",
    "        #self.len=self.x.shape[0]\n",
    "    def __getitem__(self,index):      \n",
    "        return self.x[index], self.y[index]\n",
    "    def __len__(self):\n",
    "        return self.len"
   ]
  },
  {
   "cell_type": "code",
   "execution_count": 372,
   "id": "ad0c03ec",
   "metadata": {},
   "outputs": [],
   "source": [
    "data_set    = Data()\n",
    "ver_dataset  = Data_ver()"
   ]
  },
  {
   "cell_type": "code",
   "execution_count": 373,
   "id": "3edff3d4",
   "metadata": {},
   "outputs": [],
   "source": [
    "trainloader=DataLoader(dataset=data_set,batch_size=3000)"
   ]
  },
  {
   "cell_type": "code",
   "execution_count": 374,
   "id": "f6133329",
   "metadata": {},
   "outputs": [
    {
     "data": {
      "text/plain": [
       "(torch.Size([19780, 14]), torch.Size([19780]))"
      ]
     },
     "execution_count": 374,
     "metadata": {},
     "output_type": "execute_result"
    }
   ],
   "source": [
    "data_set.x.shape, data_set.y.shape"
   ]
  },
  {
   "cell_type": "code",
   "execution_count": 375,
   "id": "cbdaaa1b",
   "metadata": {},
   "outputs": [],
   "source": [
    "class Net(nn.Module):\n",
    "    def __init__(self,D_in,H1,H2,H3,D_out):\n",
    "        super(Net,self).__init__()\n",
    "        self.linear1=nn.Linear(D_in,H1)\n",
    "        self.linear2=nn.Linear(H1,H2)\n",
    "        self.linear3=nn.Linear(H2,H3)\n",
    "        self.linear4=nn.Linear(H3,D_out)\n",
    "\n",
    "        \n",
    "    def forward(self,x):\n",
    "        x=torch.tanh(self.linear1(x))\n",
    "        x=torch.tanh(self.linear2(x))\n",
    "        x=torch.tanh(self.linear3(x))\n",
    "        \n",
    "        \n",
    "        x=self.linear4(x)\n",
    "        return x"
   ]
  },
  {
   "cell_type": "code",
   "execution_count": null,
   "id": "21986103",
   "metadata": {},
   "outputs": [],
   "source": []
  },
  {
   "cell_type": "code",
   "execution_count": null,
   "id": "c8b95424",
   "metadata": {},
   "outputs": [],
   "source": []
  },
  {
   "cell_type": "code",
   "execution_count": 376,
   "id": "f88b04a1",
   "metadata": {},
   "outputs": [],
   "source": [
    "input_dim=window*2   # how many Variables are in the dataset\n",
    "H1 = 28 # hidden layers\n",
    "H2 = 14\n",
    "H3 = 10\n",
    "output_dim=5   # number of classes"
   ]
  },
  {
   "cell_type": "code",
   "execution_count": 377,
   "id": "1357cd91",
   "metadata": {},
   "outputs": [],
   "source": [
    "# Instantiate model\n",
    "model=Net(input_dim,H1,H2,H3,output_dim)\n",
    "criterion=nn.CrossEntropyLoss()\n",
    "learning_rate=0.1\n",
    "optimizer=torch.optim.SGD(model.parameters(), lr=learning_rate,momentum=0.1)"
   ]
  },
  {
   "cell_type": "code",
   "execution_count": 379,
   "id": "94966a8c",
   "metadata": {},
   "outputs": [
    {
     "name": "stderr",
     "output_type": "stream",
     "text": [
      "100%|███████████████████████████████████████| 1500/1500 [04:26<00:00,  5.62it/s]\n"
     ]
    }
   ],
   "source": [
    "n_epochs=1500\n",
    "\n",
    "loss_list     = np.zeros((n_epochs,))\n",
    "accuracy_list = np.zeros((n_epochs,))\n",
    "early_stop = False\n",
    "trigger_times =0\n",
    "patience =2\n",
    "for epoch in tqdm.trange(n_epochs):\n",
    "    for x, y in trainloader:\n",
    "      \n",
    "\n",
    "        #clear gradient \n",
    "        optimizer.zero_grad()\n",
    "        #make a prediction \n",
    "        z=model(x)\n",
    "        # calculate loss, da Cross Entropy benutzt wird muss ich in den loss Klassen vorhersagen, \n",
    "        # also Wahrscheinlichkeit pro Klasse. Das mach torch.max(y,1)[1])\n",
    "        loss=criterion(z,y)\n",
    "        # calculate gradients of parameters \n",
    "        loss.backward()\n",
    "        # update parameters \n",
    "        optimizer.step()\n",
    "        \n",
    "        \n",
    "        loss_list[epoch] = loss.data\n",
    "        '''if epoch>10:\n",
    "            if loss_list[epoch]> round(loss_list[epoch-1],1):\n",
    "                trigger_times += 1\n",
    "                if trigger_times >= patience:\n",
    "                        print('Early stopping!\\nStart to test process.')\n",
    "                        early_stop = True\n",
    "                        break\n",
    "            else:\n",
    "                   # print('trigger times: 0')\n",
    "                    trigger_times = 0'''\n",
    "\n",
    "            \n",
    "        \n",
    "        \n",
    "        \n",
    "    with torch.no_grad():\n",
    "        y_pred = model(ver_dataset.x_val)\n",
    "        correct = (torch.argmax(y_pred, dim=1) == ver_dataset.y_val).type(torch.FloatTensor)\n",
    "        accuracy_list[epoch] = correct.mean()\n",
    "    if early_stop == True:\n",
    "        final_epoch = epoch\n",
    "        break\n",
    "        #print('epoch {}, loss {}'.format(epoch, loss.item()))"
   ]
  },
  {
   "cell_type": "code",
   "execution_count": 380,
   "id": "c0d7c9f8",
   "metadata": {},
   "outputs": [],
   "source": [
    "y_pred=model(ver_dataset.x_test.type(torch.FloatTensor))"
   ]
  },
  {
   "cell_type": "code",
   "execution_count": 381,
   "id": "0dc87e55",
   "metadata": {},
   "outputs": [
    {
     "data": {
      "image/png": "[encoded data removed]",
      "text/plain": [
       "<Figure size 864x432 with 2 Axes>"
      ]
     },
     "metadata": {
      "needs_background": "light"
     },
     "output_type": "display_data"
    }
   ],
   "source": [
    "fig, (ax1, ax2) = plt.subplots(2, figsize=(12, 6), sharex=True)\n",
    "\n",
    "ax1.plot(accuracy_list[:epoch])\n",
    "ax1.set_ylabel(\"validation accuracy\")\n",
    "ax2.plot(loss_list[:epoch])\n",
    "ax2.set_ylabel(\"validation loss\")\n",
    "ax2.set_xlabel(\"epochs\");\n"
   ]
  },
  {
   "cell_type": "code",
   "execution_count": 385,
   "id": "b9348578",
   "metadata": {},
   "outputs": [],
   "source": [
    "pred_arr = y_pred.detach().numpy()\n",
    "original_arr = ver_dataset.y_test.detach().numpy()"
   ]
  },
  {
   "cell_type": "code",
   "execution_count": 386,
   "id": "dcb7e41a",
   "metadata": {},
   "outputs": [],
   "source": [
    "new_pred_arr = np.zeros(len(pred_arr))\n",
    "for i in range(len(pred_arr)):\n",
    "    new_pred_arr[i] = np.argmax(pred_arr[i])"
   ]
  },
  {
   "cell_type": "code",
   "execution_count": 387,
   "id": "5e319da0",
   "metadata": {},
   "outputs": [
    {
     "name": "stdout",
     "output_type": "stream",
     "text": [
      "              precision    recall  f1-score   support\n",
      "\n",
      "           0       0.60      0.77      0.67       788\n",
      "           1       0.58      0.63      0.60       790\n",
      "           2       0.76      0.77      0.77       797\n",
      "           3       0.69      0.55      0.61       793\n",
      "           4       0.60      0.48      0.54       788\n",
      "\n",
      "    accuracy                           0.64      3956\n",
      "   macro avg       0.65      0.64      0.64      3956\n",
      "weighted avg       0.65      0.64      0.64      3956\n",
      "\n"
     ]
    }
   ],
   "source": [
    "print(classification_report(original_arr, new_pred_arr))"
   ]
  },
  {
   "cell_type": "code",
   "execution_count": 388,
   "id": "d135a9f2",
   "metadata": {},
   "outputs": [
    {
     "data": {
      "image/png": "[encoded data removed]",
      "text/plain": [
       "<Figure size 576x432 with 2 Axes>"
      ]
     },
     "metadata": {
      "needs_background": "light"
     },
     "output_type": "display_data"
    }
   ],
   "source": [
    "cm = confusion_matrix(original_arr, new_pred_arr)\n",
    "\n",
    "plot_confusion_matrix(cm)"
   ]
  },
  {
   "cell_type": "code",
   "execution_count": 389,
   "id": "09564c22",
   "metadata": {},
   "outputs": [],
   "source": [
    "f = open(\"acc_lss_1.dat\", 'w+')\n",
    "for i in range(len(accuracy_list[:epoch])):\n",
    "    f.write('%f \\t %f \\t %f \\n'%(i,accuracy_list[i],loss_list[i]))\n",
    "f.close()\n",
    "\n",
    "np.savetxt(\"matrix.dat\", np.transpose(cm),fmt=\"%3.0f\",  delimiter='\\t ', newline='\\n')"
   ]
  },
  {
   "cell_type": "code",
   "execution_count": null,
   "id": "f90612f5",
   "metadata": {},
   "outputs": [],
   "source": []
  }
 ],
 "metadata": {
  "kernelspec": {
   "display_name": "Python 3 (ipykernel)",
   "language": "python",
   "name": "python3"
  },
  "language_info": {
   "codemirror_mode": {
    "name": "ipython",
    "version": 3
   },
   "file_extension": ".py",
   "mimetype": "text/x-python",
   "name": "python",
   "nbconvert_exporter": "python",
   "pygments_lexer": "ipython3",
   "version": "3.10.5"
  }
 },
 "nbformat": 4,
 "nbformat_minor": 5
}
